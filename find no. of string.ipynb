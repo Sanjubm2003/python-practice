{
 "cells": [
  {
   "cell_type": "code",
   "execution_count": 6,
   "id": "d676fa23-962f-487b-9c2f-1b3095685f14",
   "metadata": {},
   "outputs": [
    {
     "name": "stdin",
     "output_type": "stream",
     "text": [
      " 56jhbjbh\n"
     ]
    },
    {
     "name": "stdout",
     "output_type": "stream",
     "text": [
      "digit: 2\n",
      "alphabet: 6\n"
     ]
    }
   ],
   "source": [
    "x=input()\n",
    "digit=0\n",
    "alphabet=0\n",
    "for i in x:\n",
    "  if i.isdigit():\n",
    "      digit+=1\n",
    "  elif i.isalpha():\n",
    "      alphabet+=1\n",
    "print(\"digit:\",digit)\n",
    "print(\"alphabet:\",alphabet)      \n",
    "    "
   ]
  },
  {
   "cell_type": "code",
   "execution_count": null,
   "id": "4e50b975-f0cd-4aef-8cef-4bdd5783f67a",
   "metadata": {},
   "outputs": [],
   "source": []
  }
 ],
 "metadata": {
  "kernelspec": {
   "display_name": "Python 3 (ipykernel)",
   "language": "python",
   "name": "python3"
  },
  "language_info": {
   "codemirror_mode": {
    "name": "ipython",
    "version": 3
   },
   "file_extension": ".py",
   "mimetype": "text/x-python",
   "name": "python",
   "nbconvert_exporter": "python",
   "pygments_lexer": "ipython3",
   "version": "3.11.7"
  }
 },
 "nbformat": 4,
 "nbformat_minor": 5
}
