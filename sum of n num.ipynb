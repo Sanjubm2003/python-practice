{
 "cells": [
  {
   "cell_type": "code",
   "execution_count": 8,
   "id": "464dab91-ce2e-4a76-916d-dad3d4c6147b",
   "metadata": {},
   "outputs": [
    {
     "name": "stdin",
     "output_type": "stream",
     "text": [
      " 10\n"
     ]
    },
    {
     "name": "stdout",
     "output_type": "stream",
     "text": [
      "55\n"
     ]
    }
   ],
   "source": [
    "    n=int(input(\"\"))\n",
    "    sum=0\n",
    "    for i in range(1,n+1):\n",
    "        sum+=i\n",
    "    print(sum)"
   ]
  },
  {
   "cell_type": "code",
   "execution_count": 21,
   "id": "b0025ee8-e7a3-4cce-95ac-732c092d5eea",
   "metadata": {},
   "outputs": [
    {
     "name": "stdin",
     "output_type": "stream",
     "text": [
      " 4\n"
     ]
    },
    {
     "name": "stdout",
     "output_type": "stream",
     "text": [
      "1\n",
      "average 100.0\n",
      "3\n",
      "average 66.66666666666666\n",
      "6\n",
      "average 50.0\n",
      "10\n",
      "average 40.0\n"
     ]
    }
   ],
   "source": [
    "n=int(input(\"\"))\n",
    "sum = 0\n",
    "for i in range(1,n+1):\n",
    "    sum+=i\n",
    "    print(sum)\n",
    "    print(\"average\",i/sum*100)\n",
    "\n",
    "\n"
   ]
  },
  {
   "cell_type": "code",
   "execution_count": null,
   "id": "349d7bcc-85bc-40a8-aa8e-2f6378aa1d18",
   "metadata": {},
   "outputs": [],
   "source": []
  }
 ],
 "metadata": {
  "kernelspec": {
   "display_name": "Python 3 (ipykernel)",
   "language": "python",
   "name": "python3"
  },
  "language_info": {
   "codemirror_mode": {
    "name": "ipython",
    "version": 3
   },
   "file_extension": ".py",
   "mimetype": "text/x-python",
   "name": "python",
   "nbconvert_exporter": "python",
   "pygments_lexer": "ipython3",
   "version": "3.11.7"
  }
 },
 "nbformat": 4,
 "nbformat_minor": 5
}
