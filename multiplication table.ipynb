{
 "cells": [
  {
   "cell_type": "code",
   "execution_count": 11,
   "id": "e0da3701-b3a5-4b5b-93f6-ef647ffece66",
   "metadata": {},
   "outputs": [
    {
     "name": "stdin",
     "output_type": "stream",
     "text": [
      " 8\n"
     ]
    },
    {
     "name": "stdout",
     "output_type": "stream",
     "text": [
      "8*1=8\n",
      "8*1=16\n",
      "8*1=24\n",
      "8*1=32\n",
      "8*1=40\n",
      "8*1=48\n",
      "8*1=56\n",
      "8*1=64\n",
      "8*1=72\n",
      "8*1=80\n"
     ]
    }
   ],
   "source": [
    "num=int(input())\n",
    "i=1\n",
    "while i<=10:\n",
    "    print(f\"{num}*1={num*i}\")\n",
    "    i+=1\n",
    "    "
   ]
  },
  {
   "cell_type": "code",
   "execution_count": null,
   "id": "3704a817-086f-4403-aa9b-f041ba1ed20f",
   "metadata": {},
   "outputs": [],
   "source": []
  }
 ],
 "metadata": {
  "kernelspec": {
   "display_name": "Python 3 (ipykernel)",
   "language": "python",
   "name": "python3"
  },
  "language_info": {
   "codemirror_mode": {
    "name": "ipython",
    "version": 3
   },
   "file_extension": ".py",
   "mimetype": "text/x-python",
   "name": "python",
   "nbconvert_exporter": "python",
   "pygments_lexer": "ipython3",
   "version": "3.11.7"
  }
 },
 "nbformat": 4,
 "nbformat_minor": 5
}
